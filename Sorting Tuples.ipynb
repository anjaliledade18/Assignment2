{
 "cells": [
  {
   "cell_type": "code",
   "execution_count": 1,
   "id": "27ce3fdc",
   "metadata": {},
   "outputs": [
    {
     "name": "stdout",
     "output_type": "stream",
     "text": [
      "[(11, 1), (4, 2), (10, 3), (9, 4), (5, 5)]\n"
     ]
    }
   ],
   "source": [
    "def lastel(n): \n",
    "    return n[-1]  # Function 1\n",
    "\n",
    "def sort_list_last(tuples):   # Function 2\n",
    "  return sorted(tuples, key=lastel)\n",
    "\n",
    "print(sort_list_last([(5, 5), (4, 2), (9, 4), (10, 3), (11, 1)]))"
   ]
  },
  {
   "cell_type": "code",
   "execution_count": null,
   "id": "fc372403",
   "metadata": {},
   "outputs": [],
   "source": []
  }
 ],
 "metadata": {
  "kernelspec": {
   "display_name": "Python 3 (ipykernel)",
   "language": "python",
   "name": "python3"
  },
  "language_info": {
   "codemirror_mode": {
    "name": "ipython",
    "version": 3
   },
   "file_extension": ".py",
   "mimetype": "text/x-python",
   "name": "python",
   "nbconvert_exporter": "python",
   "pygments_lexer": "ipython3",
   "version": "3.10.2"
  }
 },
 "nbformat": 4,
 "nbformat_minor": 5
}
